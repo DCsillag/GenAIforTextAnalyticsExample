{
 "cells": [
  {
   "cell_type": "code",
   "execution_count": 2,
   "metadata": {},
   "outputs": [],
   "source": [
    "from openai import AzureOpenAI\n",
    "import pandas as pd\n",
    "import json"
   ]
  },
  {
   "cell_type": "markdown",
   "metadata": {},
   "source": [
    "### With Modules Installed we will define our AzureOpenAI connectivity"
   ]
  },
  {
   "cell_type": "code",
   "execution_count": 3,
   "metadata": {},
   "outputs": [],
   "source": [
    "# Define connection parameters\n",
    "AZURE_OPENAI_ENDPOINT = \"AZURE_OPENAI_ENDPOINT\"\n",
    "AZURE_OPENAI_MODEL = \"AZURE_OPENAI_MODEL\"\n",
    "AZURE_OPENAI_KEY = \"AZURE_OPENAI_KEY\""
   ]
  },
  {
   "cell_type": "code",
   "execution_count": 4,
   "metadata": {},
   "outputs": [
    {
     "name": "stdout",
     "output_type": "stream",
     "text": [
      "{\n",
      "  \"WorldSeriesWinner2020\": {\n",
      "    \"TeamName\": \"Los Angeles Dodgers\",\n",
      "    \"Defeated\": \"Tampa Bay Rays\",\n",
      "    \"SeriesResult\": \"4-2\",\n",
      "    \"Notable\": \"It was the Dodgers' seventh World Series title\"\n",
      "  }\n",
      "}\n"
     ]
    }
   ],
   "source": [
    "# Lets create a test case for the model to validate the connection and Json output\n",
    "client = AzureOpenAI(\n",
    "  azure_endpoint = AZURE_OPENAI_ENDPOINT, \n",
    "  api_key=AZURE_OPENAI_KEY,  \n",
    "  api_version=\"2023-12-01-preview\"\n",
    ")\n",
    "\n",
    "response = client.chat.completions.create(\n",
    "  model=AZURE_OPENAI_MODEL, # Model = should match the deployment name you chose for your 1106-preview model deployment\n",
    "  response_format={ \"type\": \"json_object\" },\n",
    "  messages=[\n",
    "    {\"role\": \"system\", \"content\": \"You are a helpful assistant designed to output JSON.\"},\n",
    "    {\"role\": \"user\", \"content\": \"Who won the world series in 2020?\"}\n",
    "  ]\n",
    ")\n",
    "print(response.choices[0].message.content)"
   ]
  },
  {
   "cell_type": "markdown",
   "metadata": {},
   "source": [
    "Now let's use GitHub copilot to turn that example from our docs page which evaluates if the connection is working into a Python function that we can repeatable call over our data. "
   ]
  },
  {
   "cell_type": "code",
   "execution_count": 5,
   "metadata": {},
   "outputs": [],
   "source": [
    "def get_chat_completion_json(system_content, user_content):\n",
    "    response = client.chat.completions.create(\n",
    "        model=AZURE_OPENAI_MODEL,  # Model = should match the deployment name you chose for your 1106-preview model deployment\n",
    "        response_format={\"type\": \"json_object\"},\n",
    "        messages=[\n",
    "            {\"role\": \"system\", \"content\": system_content},\n",
    "            {\"role\": \"user\", \"content\": user_content}\n",
    "        ]\n",
    "    )\n",
    "    return json.loads(response.choices[0].message.content)"
   ]
  },
  {
   "cell_type": "code",
   "execution_count": 6,
   "metadata": {},
   "outputs": [
    {
     "name": "stdout",
     "output_type": "stream",
     "text": [
      "{'World_Series_Winner_2020': {'Team': 'Los Angeles Dodgers', 'Defeated': 'Tampa Bay Rays', 'Series_Score': '4-2', 'First_Title_Since': '1988'}}\n"
     ]
    }
   ],
   "source": [
    "#Lets test the function\n",
    "result = get_chat_completion_json(\"You are a helpful assistant designed to output JSON.\", \"Who won the world series in 2020?\")\n",
    "print(result)"
   ]
  },
  {
   "cell_type": "markdown",
   "metadata": {},
   "source": [
    "Execellent, now that we have a working function, lets pivot to look at our dataset for today. Using ChatGPT I've created 9 samples reviews for our fake BBQ product, the \"Cooktop Portable BBQ\". The objective will be to not just perform sentiment analysis, but also understand what next best action to take to improve on the feedback. Let's start by loading in the reviews from our txt file"
   ]
  },
  {
   "cell_type": "code",
   "execution_count": 7,
   "metadata": {},
   "outputs": [
    {
     "name": "stdout",
     "output_type": "stream",
     "text": [
      "                                             reviews\n",
      "0  Just bought the Cookup Portable BBQ from Outdo...\n",
      "1  I picked up the Cookup Portable BBQ from Adven...\n",
      "2  I'm thrilled with my Cookup Portable BBQ from ...\n",
      "3  Bought the Cookup Portable BBQ from Grill Mast...\n",
      "4  Purchased this BBQ from Patio World. It's ligh...\n"
     ]
    }
   ],
   "source": [
    "# Read the text file line by line\n",
    "with open('Reviews.txt', 'r') as file:\n",
    "    lines = file.readlines()\n",
    "\n",
    "# Remove any trailing new line characters\n",
    "lines = [line.rstrip('\\n') for line in lines]\n",
    "\n",
    "# Convert the list into a DataFrame\n",
    "df = pd.DataFrame(lines, columns=['reviews'])\n",
    "\n",
    "# Display the DataFrame\n",
    "print(df.head(5))"
   ]
  },
  {
   "cell_type": "markdown",
   "metadata": {},
   "source": [
    "Now that we have the reviews loaded, we need to define a system message for GPT-4 understand the JSON format that we want. We'd like to extract the user sentiment and also a recommended next step we can take to improve the customer experience and product. Let's start with the following prompt."
   ]
  },
  {
   "cell_type": "code",
   "execution_count": 8,
   "metadata": {},
   "outputs": [],
   "source": [
    "SysMsg = \"\"\"\n",
    "Your are a helpful assistant designed to output JSON. You will be given a review for a product and you should \n",
    "output the following JSON format.\n",
    "{\n",
    "    \"sentiment\": \"positive\" or \"negative\" or \"neutral\",\n",
    "    \"recommended_store_action\":\"If the review is negative or neutral, what is an action we can take take to improve the customer experience in the retail store, if it positive review or you're unsure simply state not applicable\",\n",
    "    \"recommended_product_action\":\"If the review is negative or neutral, what is an action we can take take to improve the product, if it positive review or you're unsure simply state not applicable\"\n",
    "}\n",
    "\"\"\""
   ]
  },
  {
   "cell_type": "markdown",
   "metadata": {},
   "source": [
    "Now let's use this message with the first entry in our data frame"
   ]
  },
  {
   "cell_type": "code",
   "execution_count": 9,
   "metadata": {},
   "outputs": [
    {
     "name": "stdout",
     "output_type": "stream",
     "text": [
      "{'sentiment': 'positive', 'recommended_store_action': 'not applicable', 'recommended_product_action': 'not applicable'}\n"
     ]
    }
   ],
   "source": [
    "result = get_chat_completion_json(SysMsg, df['reviews'][0])\n",
    "print(result)"
   ]
  },
  {
   "cell_type": "markdown",
   "metadata": {},
   "source": [
    "Amazing! Now let's try it out on a negative review!"
   ]
  },
  {
   "cell_type": "code",
   "execution_count": 10,
   "metadata": {},
   "outputs": [
    {
     "name": "stdout",
     "output_type": "stream",
     "text": [
      "{'sentiment': 'negative', 'recommended_store_action': 'Provide additional training to staff to improve customer service and responsiveness to customer concerns.', 'recommended_product_action': \"Investigate the product's design to improve ease of setup and heating distribution. Consider enlarging the grilling space to accommodate users' needs.\"}\n"
     ]
    }
   ],
   "source": [
    "result = get_chat_completion_json(SysMsg, df['reviews'][8])\n",
    "print(result)"
   ]
  },
  {
   "cell_type": "markdown",
   "metadata": {},
   "source": [
    "Alright, now let's apply this to every row in the dataframe! I'm unsure how to make the code, so we'll use GitHub Copilot!"
   ]
  },
  {
   "cell_type": "code",
   "execution_count": 13,
   "metadata": {},
   "outputs": [],
   "source": [
    "def apply_get_chat_completion_json(review):\n",
    "    # Replace 'system_content' with the actual system content you want to use\n",
    "    system_content = SysMsg\n",
    "    response = get_chat_completion_json(system_content, review)\n",
    "    return pd.Series(response)\n",
    "\n",
    "# Apply the function to the 'reviews' column\n",
    "results_df = df['reviews'].apply(apply_get_chat_completion_json)"
   ]
  },
  {
   "cell_type": "markdown",
   "metadata": {},
   "source": [
    "Now Let's look at the results of the process in the dataframe!"
   ]
  },
  {
   "cell_type": "code",
   "execution_count": 14,
   "metadata": {},
   "outputs": [
    {
     "data": {
      "text/html": [
       "<div>\n",
       "<style scoped>\n",
       "    .dataframe tbody tr th:only-of-type {\n",
       "        vertical-align: middle;\n",
       "    }\n",
       "\n",
       "    .dataframe tbody tr th {\n",
       "        vertical-align: top;\n",
       "    }\n",
       "\n",
       "    .dataframe thead th {\n",
       "        text-align: right;\n",
       "    }\n",
       "</style>\n",
       "<table border=\"1\" class=\"dataframe\">\n",
       "  <thead>\n",
       "    <tr style=\"text-align: right;\">\n",
       "      <th></th>\n",
       "      <th>sentiment</th>\n",
       "      <th>recommended_store_action</th>\n",
       "      <th>recommended_product_action</th>\n",
       "    </tr>\n",
       "  </thead>\n",
       "  <tbody>\n",
       "    <tr>\n",
       "      <th>0</th>\n",
       "      <td>positive</td>\n",
       "      <td>not applicable</td>\n",
       "      <td>not applicable</td>\n",
       "    </tr>\n",
       "    <tr>\n",
       "      <th>1</th>\n",
       "      <td>positive</td>\n",
       "      <td>not applicable</td>\n",
       "      <td>not applicable</td>\n",
       "    </tr>\n",
       "    <tr>\n",
       "      <th>2</th>\n",
       "      <td>positive</td>\n",
       "      <td>not applicable</td>\n",
       "      <td>not applicable</td>\n",
       "    </tr>\n",
       "    <tr>\n",
       "      <th>3</th>\n",
       "      <td>neutral</td>\n",
       "      <td>Train staff to engage more warmly with custome...</td>\n",
       "      <td>Consider designing a new model with a larger g...</td>\n",
       "    </tr>\n",
       "    <tr>\n",
       "      <th>4</th>\n",
       "      <td>neutral</td>\n",
       "      <td>Provide additional training to staff to ensure...</td>\n",
       "      <td>Investigate BBQ design for potential improveme...</td>\n",
       "    </tr>\n",
       "    <tr>\n",
       "      <th>5</th>\n",
       "      <td>neutral</td>\n",
       "      <td>Provide staff training to ensure proactive cus...</td>\n",
       "      <td>Investigate heat distribution issues and consi...</td>\n",
       "    </tr>\n",
       "    <tr>\n",
       "      <th>6</th>\n",
       "      <td>negative</td>\n",
       "      <td>Improve staff training on customer service to ...</td>\n",
       "      <td>Reassess the build quality and ignition system...</td>\n",
       "    </tr>\n",
       "    <tr>\n",
       "      <th>7</th>\n",
       "      <td>negative</td>\n",
       "      <td>Provide staff with additional training to impr...</td>\n",
       "      <td>Review the BBQ product design to improve sturd...</td>\n",
       "    </tr>\n",
       "    <tr>\n",
       "      <th>8</th>\n",
       "      <td>negative</td>\n",
       "      <td>Provide staff with customer service training t...</td>\n",
       "      <td>Review the BBQ design to improve ease of setup...</td>\n",
       "    </tr>\n",
       "  </tbody>\n",
       "</table>\n",
       "</div>"
      ],
      "text/plain": [
       "  sentiment                           recommended_store_action  \\\n",
       "0  positive                                     not applicable   \n",
       "1  positive                                     not applicable   \n",
       "2  positive                                     not applicable   \n",
       "3   neutral  Train staff to engage more warmly with custome...   \n",
       "4   neutral  Provide additional training to staff to ensure...   \n",
       "5   neutral  Provide staff training to ensure proactive cus...   \n",
       "6  negative  Improve staff training on customer service to ...   \n",
       "7  negative  Provide staff with additional training to impr...   \n",
       "8  negative  Provide staff with customer service training t...   \n",
       "\n",
       "                          recommended_product_action  \n",
       "0                                     not applicable  \n",
       "1                                     not applicable  \n",
       "2                                     not applicable  \n",
       "3  Consider designing a new model with a larger g...  \n",
       "4  Investigate BBQ design for potential improveme...  \n",
       "5  Investigate heat distribution issues and consi...  \n",
       "6  Reassess the build quality and ignition system...  \n",
       "7  Review the BBQ product design to improve sturd...  \n",
       "8  Review the BBQ design to improve ease of setup...  "
      ]
     },
     "execution_count": 14,
     "metadata": {},
     "output_type": "execute_result"
    }
   ],
   "source": [
    "# Print the DataFrame to check the result\n",
    "results_df.head(10)"
   ]
  },
  {
   "cell_type": "markdown",
   "metadata": {},
   "source": [
    "Now we have processed all the customer feedback, we can then pass the collected feedback back through the OpenAI service and perform and aggregate recommendation using the standard text in text out experience. \n",
    "Let's define another function to use, and then pass through all of our recommended product actions."
   ]
  },
  {
   "cell_type": "code",
   "execution_count": 15,
   "metadata": {},
   "outputs": [],
   "source": [
    "def get_chat_completion_text(system_content, user_content):\n",
    "    response = client.chat.completions.create(\n",
    "        model=AZURE_OPENAI_MODEL,  # Model = should match the deployment name you chose for your 1106-preview model deployment\n",
    "        messages=[\n",
    "            {\"role\": \"system\", \"content\": system_content},\n",
    "            {\"role\": \"user\", \"content\": user_content}\n",
    "        ]\n",
    "    )\n",
    "    return response.choices[0].message.content"
   ]
  },
  {
   "cell_type": "code",
   "execution_count": 16,
   "metadata": {},
   "outputs": [
    {
     "name": "stdout",
     "output_type": "stream",
     "text": [
      "Consider designing a new model with a larger grilling area while maintaining portability to meet customer needs., Investigate BBQ design for potential improvements in heating efficiency and consider including clear instructions or tips for optimal temperature management., Investigate heat distribution issues and consider design improvements., Reassess the build quality and ignition system of the Portable BBQ to improve its durability and reliability., Review the BBQ product design to improve sturdiness and heat control consistency. Consider reaching out to the customer to offer a replacement or refund., Review the BBQ design to improve ease of setup and ensure even heating. Consider making a version with more grilling space to accommodate customers' needs.\n"
     ]
    }
   ],
   "source": [
    "# Select rows where 'recommended_product_action' is not \"not applicable\"\n",
    "selected_rows = results_df.loc[results_df['recommended_product_action'] != \"not applicable\", 'recommended_product_action']\n",
    "\n",
    "# Concatenate the selected items into a string with comma separating each item\n",
    "product_summary = ', '.join(selected_rows)\n",
    "\n",
    "# Print the output string\n",
    "print(product_summary)"
   ]
  },
  {
   "cell_type": "markdown",
   "metadata": {},
   "source": [
    "Let's now pass these recommendations into the model, defining a relevant system message first. This will be much more token efficient than simply parsing the entire review, and hopefully more accurate. "
   ]
  },
  {
   "cell_type": "code",
   "execution_count": 17,
   "metadata": {},
   "outputs": [
    {
     "name": "stdout",
     "output_type": "stream",
     "text": [
      "To determine the best path forward for product improvement for the portable barbecue product, we need to consider factors such as the impact on customer satisfaction, cost, implementation time, and feasibility. Looking at the suggestions:\n",
      "\n",
      "1. **Design a new model with a larger grilling area while maintaining portability**: This could significantly increase customer satisfaction for those who require more space. However, redesigning and producing a new model could be time-consuming and expensive.\n",
      "\n",
      "2. **Investigate BBQ design for potential improvements in heating efficiency and temperature management instructions or tips**: This may be easier to implement as it could involve tweaks to the current design rather than a full redesign. Providing better instructions or tips could be quite straightforward and cost-effective. \n",
      "\n",
      "3. **Investigate heat distribution issues and design improvements**: This is critical as even heating is a fundamental aspect of a good BBQ. Changes could range from minor tweaks to significant redesigns, depending on the severity of the issue.\n",
      "\n",
      "4. **Reassess the build quality and ignition system for durability and reliability**: This is essential for customer trust and product longevity. Improving the quality of materials or manufacturing processes might be moderately difficult but important for long-term brand reputation.\n",
      "\n",
      "5. **Review the BBQ design to improve sturdiness and heat control consistency**: This might be easier to implement compared to a complete redesign and is crucial for user experience.\n",
      "\n",
      "6. **Improve ease of setup and ensure even heating; making a version with more grill space**: Easing the setup process could involve clearer instructions or minor design changes and is thus relatively easy to implement. Providing more grill space without compromising portability may require a significant redesign.\n",
      "\n",
      "Based on customer feedback frequency and ease of implementation, the prioritized actions might be:\n",
      "\n",
      "- **Easiest to Implement**:\n",
      "    1. Provide clearer instructions or tips for optimal temperature management.\n",
      "    2. Improve ease of setup with better instructions or minor design adjustments.\n",
      "    \n",
      "- **Most Requested** (Assuming you have customer feedback indicating this):\n",
      "    1. Design improvements for even heat distribution.\n",
      "    2. A larger grilling area to accommodate customer needs.\n",
      "\n",
      "It would be important to gather data on customer feedback to confirm which issues are most frequently reported. Additionally, conducting customer surveys can help prioritize which improvements would be most valued by users.\n",
      "\n",
      "The best approach usually strikes a balance between ease of implementation and impact on customer satisfaction. Therefore, starting with clearer instructions and minor design tweaks could provide immediate improvements, while planning for a larger redesign in the longer term to address structural issues and the demand for more grilling space.\n"
     ]
    }
   ],
   "source": [
    "SysMsgReview = \"\"\"\n",
    "Your are a helpful assistant designed to help provide a recommendation for best path forward for product improvement.\n",
    "Given many recommended actions for remmediation, you should consider which recommendations might be the easiest to\n",
    "implement for our portable barbeque product, and which recommendations are the most requested.\n",
    "\"\"\"\n",
    "\n",
    "print(get_chat_completion_text(SysMsgReview, product_summary))"
   ]
  }
 ],
 "metadata": {
  "kernelspec": {
   "display_name": "Python 3",
   "language": "python",
   "name": "python3"
  },
  "language_info": {
   "codemirror_mode": {
    "name": "ipython",
    "version": 3
   },
   "file_extension": ".py",
   "mimetype": "text/x-python",
   "name": "python",
   "nbconvert_exporter": "python",
   "pygments_lexer": "ipython3",
   "version": "3.12.0"
  }
 },
 "nbformat": 4,
 "nbformat_minor": 2
}
